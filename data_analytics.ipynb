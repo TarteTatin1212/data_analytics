{
  "nbformat": 4,
  "nbformat_minor": 0,
  "metadata": {
    "colab": {
      "provenance": [],
      "authorship_tag": "ABX9TyPqVzdugHxsGpZ3LdusLKwS",
      "include_colab_link": true
    },
    "kernelspec": {
      "name": "python3",
      "display_name": "Python 3"
    },
    "language_info": {
      "name": "python"
    }
  },
  "cells": [
    {
      "cell_type": "markdown",
      "metadata": {
        "id": "view-in-github",
        "colab_type": "text"
      },
      "source": [
        "<a href=\"https://colab.research.google.com/github/TarteTatin1212/data_analytics/blob/main/data_analytics.ipynb\" target=\"_parent\"><img src=\"https://colab.research.google.com/assets/colab-badge.svg\" alt=\"Open In Colab\"/></a>"
      ]
    },
    {
      "cell_type": "code",
      "execution_count": null,
      "metadata": {
        "colab": {
          "base_uri": "https://localhost:8080/",
          "height": 36
        },
        "id": "5nnEBgSu7j_M",
        "outputId": "5d9826d6-71ac-44dd-e96a-fd9216977ca7"
      },
      "outputs": [
        {
          "output_type": "execute_result",
          "data": {
            "text/plain": [
              "'/content'"
            ],
            "application/vnd.google.colaboratory.intrinsic+json": {
              "type": "string"
            }
          },
          "metadata": {},
          "execution_count": 2
        }
      ],
      "source": [
        "%pwd"
      ]
    },
    {
      "cell_type": "code",
      "execution_count": null,
      "metadata": {
        "colab": {
          "base_uri": "https://localhost:8080/"
        },
        "id": "EztHwK_u8d2C",
        "outputId": "182c3e62-e0b0-4409-a7bc-a470aedd4db8"
      },
      "outputs": [
        {
          "output_type": "stream",
          "name": "stdout",
          "text": [
            "Mounted at /content/drive\n",
            "/content/drive/MyDrive/Horita_Semi/Senior_Project\n"
          ]
        }
      ],
      "source": [
        "# Google Driveをマウント\n",
        "from google.colab import drive\n",
        "drive.mount('/content/drive')\n",
        "\n",
        "# ディレクトリをSenior_Projectに変更\n",
        "%cd '/content/drive/MyDrive/Horita_Semi/Senior_Project'"
      ]
    },
    {
      "cell_type": "code",
      "source": [
        "import pandas as pd\n",
        "import matplotlib.pyplot as plt\n",
        "import seaborn as sns\n",
        "\n",
        "# CSVファイルを読み込む\n",
        "file_path = '/content/drive/MyDrive/Horita_Semi/Senior_Project/merged_data.csv'\n",
        "df = pd.read_csv(file_path)\n",
        "\n",
        "# データの最初の5行を表示して内容を確認\n",
        "print(df.head())\n",
        "\n",
        "# Seaborn のスタイルをセット\n",
        "sns.set(style=\"whitegrid\")\n",
        "\n",
        "# 箱ひげ図を描画\n",
        "plt.figure(figsize=(10, 6))\n",
        "ax = sns.boxplot(x=\"face_detected\", y=\"viewCount\", data=df)\n",
        "\n",
        "# y 軸のスケールを log スケールに設定して、データのばらつきを見やすくする\n",
        "ax.set_yscale(\"log\")\n",
        "\n",
        "# グラフのタイトルとラベルを設定\n",
        "plt.title(\"Face Detected と View Count の関係\")\n",
        "plt.xlabel(\"Face Detected\")\n",
        "plt.ylabel(\"View Count (log scale)\")\n",
        "\n",
        "# グラフを表示\n",
        "plt.show()\n"
      ],
      "metadata": {
        "id": "YgGsWahF7ltT",
        "colab": {
          "base_uri": "https://localhost:8080/",
          "height": 1000
        },
        "outputId": "6565f8ab-6376-4cc9-884f-71daa6c491ec"
      },
      "execution_count": null,
      "outputs": [
        {
          "output_type": "stream",
          "name": "stdout",
          "text": [
            "      video_id                                              title  \\\n",
            "0  DCuoWYeneuc                                      地上波で冠番組はじめました   \n",
            "1  SkyrTccqmXU      『THE FIRST TAKE』ユートピア公開されました😈🙌🏻 #imase #ユートピア   \n",
            "2  CqIsq7QFCfY                            【最終戦セレモニー】原辰徳監督から挨拶【巨人】   \n",
            "3  QIkN5LdKhNY                           【最終戦セレモニー】原辰徳監督へ花束贈呈【巨人】   \n",
            "4  YpE7g50kCdQ  【速報】甲府がACL初勝利！ 90分に待っていたドラマ、長谷川元希のゴールが新たな歴史を切り...   \n",
            "\n",
            "                     channelTitle  \\\n",
            "0  ATARASHII GAKKO! - 新しい学校のリーダーズ   \n",
            "1                           imase   \n",
            "2          DRAMATIC BASEBALL 2023   \n",
            "3          DRAMATIC BASEBALL 2023   \n",
            "4                      DAZN Japan   \n",
            "\n",
            "                                     thumbnailUrl  viewCount  face_detected  \n",
            "0  https://i.ytimg.com/vi/DCuoWYeneuc/default.jpg      35192          False  \n",
            "1  https://i.ytimg.com/vi/SkyrTccqmXU/default.jpg      11839          False  \n",
            "2  https://i.ytimg.com/vi/CqIsq7QFCfY/default.jpg     347897           True  \n",
            "3  https://i.ytimg.com/vi/QIkN5LdKhNY/default.jpg     143720          False  \n",
            "4  https://i.ytimg.com/vi/YpE7g50kCdQ/default.jpg     104795          False  \n"
          ]
        },
        {
          "output_type": "stream",
          "name": "stderr",
          "text": [
            "/usr/local/lib/python3.10/dist-packages/IPython/core/pylabtools.py:151: UserWarning: Glyph 12392 (\\N{HIRAGANA LETTER TO}) missing from current font.\n",
            "  fig.canvas.print_figure(bytes_io, **kw)\n",
            "/usr/local/lib/python3.10/dist-packages/IPython/core/pylabtools.py:151: UserWarning: Glyph 12398 (\\N{HIRAGANA LETTER NO}) missing from current font.\n",
            "  fig.canvas.print_figure(bytes_io, **kw)\n",
            "/usr/local/lib/python3.10/dist-packages/IPython/core/pylabtools.py:151: UserWarning: Glyph 38306 (\\N{CJK UNIFIED IDEOGRAPH-95A2}) missing from current font.\n",
            "  fig.canvas.print_figure(bytes_io, **kw)\n",
            "/usr/local/lib/python3.10/dist-packages/IPython/core/pylabtools.py:151: UserWarning: Glyph 20418 (\\N{CJK UNIFIED IDEOGRAPH-4FC2}) missing from current font.\n",
            "  fig.canvas.print_figure(bytes_io, **kw)\n"
          ]
        },
        {
          "output_type": "display_data",
          "data": {
            "text/plain": [
              "<Figure size 1000x600 with 1 Axes>"
            ],
            "image/png": "[encoded data removed]"
          },
          "metadata": {}
        }
      ]
    }
  ]
}